{
 "cells": [
  {
   "cell_type": "markdown",
   "id": "1b58f33d",
   "metadata": {},
   "source": [
    "# Report : Score element and this effect on Grade\n",
    "\n",
    "This report aims to analyze the overall data from the score data columns to the final grade, assessing the influence of each score. This report will answer the question: \"If students had better '... Score', would they have better Grade?\". To find the answer of this question, I will analyze one by one element:\n",
    "\n",
    "**1. The Assignment Score Influence**\n",
    "\n",
    "Homework assignments are among the most critical practical components affecting academic performance. Assignments help students review the knowledge learned in class and apply theoretical concepts to practice. However, depending on the nature and complexity of the assignments, their impact on the final grade may vary.\n",
    "\n",
    "**2. The Quiz Score Influence**\n",
    "\n",
    "Quizzes are quick in-class assessments designed to evaluate students' understanding of the material. They act as short-term review tools that help reinforce learning. Similar to homework assignments, the influence of quizzes on the final grade depends on their frequency and difficulty level.\n",
    "\n",
    "**3. The Participation Score Influence**\n",
    "\n",
    "Class participation measures a student's engagement in discussions, attendance, and overall involvement in the learning process. While participation does not directly test knowledge, active engagement can contribute to a deeper understanding of the subject matter. The extent to which participation scores affect the final grade depends on the course's grading policy and how much weight is assigned to participation.\n",
    "\n",
    "**4. The Midterm Score Influence**\n",
    "\n",
    "Midterm exams are a significant evaluation tool that tests students' comprehension of the first half of the course. A high midterm score often indicates strong foundational knowledge, which can contribute to better performance in subsequent assessments, including the final exam.\n",
    "\n",
    "**5. The Project Score Influence**\n",
    "\n",
    "Projects require students to apply their knowledge in a practical way, and projects can carry a high weight in the final grade calculation. A well-executed project can compensate for lower scores in other areas and significantly boost the final grade.\n",
    "\n",
    "**6. The Final Exam Score Influence**\n",
    "\n",
    "The final exam is typically the most comprehensive assessment in a course, covering all topics learned. It has the highest impact on the final grade as it tests a student’s overall understanding and retention of the subject matter.\n",
    "\n",
    "**Note:**\n",
    "This report is not intended to address in detail how the Grade is assessed through the scores but only to answer the question **\"If your scores are high, will your overall grade be good?\"**."
   ]
  },
  {
   "cell_type": "markdown",
   "id": "43085e1e",
   "metadata": {},
   "source": [
    "<hr style=\"border: 5px solid #003262;\" />\n",
    "<hr style=\"border: 1px solid #fdb515;\" />\n",
    "\n",
    "## 0. Prepare"
   ]
  },
  {
   "cell_type": "markdown",
   "id": "7e1f134a",
   "metadata": {},
   "source": [
    "<!-- BEFORE THE QUESTION -->\n",
    "\n",
    "Preparing for this question, first init some library which used in the next step.\n"
   ]
  },
  {
   "metadata": {
    "ExecuteTime": {
     "end_time": "2025-04-12T11:25:16.100549Z",
     "start_time": "2025-04-12T11:25:15.233223Z"
    }
   },
   "cell_type": "code",
   "source": [
    "import numpy as np\n",
    "from datascience import *\n",
    "\n",
    "import matplotlib\n",
    "%matplotlib inline\n",
    "import matplotlib.pyplot as plt\n",
    "plt.style.use('fivethirtyeight')\n",
    "import warnings\n",
    "warnings.simplefilter('ignore', FutureWarning)"
   ],
   "id": "b0044cc16ed9c8cd",
   "outputs": [],
   "execution_count": 2
  },
  {
   "metadata": {},
   "cell_type": "markdown",
   "source": "For the following step, first init this table and select columns which we want find the relationship.",
   "id": "ab59099e28dc1a7a"
  },
  {
   "metadata": {
    "ExecuteTime": {
     "end_time": "2025-04-12T11:39:25.112911Z",
     "start_time": "2025-04-12T11:39:23.466813Z"
    }
   },
   "cell_type": "code",
   "source": [
    "stu_grade = Table.read_table('Students_Grading_Dataset.csv')\n",
    "stu_grade"
   ],
   "id": "8d8f8b0e2011bc1e",
   "outputs": [
    {
     "data": {
      "text/plain": [
       "Student_ID | First_Name | Last_Name | Email                   | Gender | Age  | Department  | Attendance (%) | Midterm_Score | Final_Score | Assignments_Avg | Quizzes_Avg | Participation_Score | Projects_Score | Total_Score | Grade | Study_Hours_per_Week | Extracurricular_Activities | Internet_Access_at_Home | Parent_Education_Level | Family_Income_Level | Stress_Level (1-10) | Sleep_Hours_per_Night\n",
       "S1000      | Omar       | Williams  | student0@university.com | Female | 22   | Engineering | 52.29          | 55.03         | 57.82       | 84.22           | 74.06       | 3.99                | 85.9           | 56.09       | F     | 6.2                  | No                         | Yes                     | High School            | Medium              | 5                   | 4.7\n",
       "S1001      | Maria      | Brown     | student1@university.com | Male   | 18   | Engineering | 97.27          | 97.23         | 45.8        | nan             | 94.24       | 8.32                | 55.65          | 50.64       | A     | 19                   | No                         | Yes                     | nan                    | Medium              | 4                   | 9\n",
       "S1002      | Ahmed      | Jones     | student2@university.com | Male   | 24   | Business    | 57.19          | 67.05         | 93.68       | 67.7            | 85.7        | 5.05                | 73.79          | 70.3        | D     | 20.7                 | No                         | Yes                     | Master's               | Low                 | 6                   | 6.2\n",
       "S1003      | Omar       | Williams  | student3@university.com | Female | 24   | Mathematics | 95.15          | 47.79         | 80.63       | 66.06           | 93.51       | 6.54                | 92.12          | 61.63       | A     | 24.8                 | Yes                        | Yes                     | High School            | High                | 3                   | 6.7\n",
       "S1004      | John       | Smith     | student4@university.com | Female | 23   | CS          | 54.18          | 46.59         | 78.89       | 96.85           | 83.7        | 5.97                | 68.42          | 66.13       | F     | 15.4                 | Yes                        | Yes                     | High School            | High                | 2                   | 7.1\n",
       "S1005      | Liam       | Brown     | student5@university.com | Male   | 21   | Engineering | nan            | 78.85         | 43.53       | 71.4            | 52.2        | 6.38                | 67.29          | 62.08       | B     | 8.5                  | Yes                        | Yes                     | PhD                    | High                | 1                   | 5\n",
       "S1006      | Ahmed      | Jones     | student6@university.com | Male   | 24   | Business    | 57.6           | 66.26         | 89.07       | 84.52           | 98.4        | 2.3                 | 93.65          | 83.21       | F     | 21.3                 | No                         | Yes                     | nan                    | Low                 | 5                   | 6.4\n",
       "S1007      | Ahmed      | Smith     | student7@university.com | Male   | 19   | Engineering | 51.91          | 45.67         | 73.96       | 80.12           | 95.9        | 3.73                | 93.24          | 81.93       | F     | 27.3                 | Yes                        | No                      | nan                    | Medium              | 4                   | 4.3\n",
       "S1008      | Omar       | Smith     | student8@university.com | Female | 21   | CS          | 85.97          | 84.42         | 90.87       | 57.05           | 56.33       | 0.51                | 94.01          | 95.62       | A     | 8                    | No                         | No                      | Bachelor's             | Low                 | 9                   | 8.8\n",
       "S1009      | Sara       | Smith     | student9@university.com | Female | 22   | Engineering | 64.01          | 87.96         | 98.47       | 96.98           | 55.63       | 5.88                | 78.6           | 84.99       | A     | 9.6                  | No                         | Yes                     | nan                    | Medium              | 10                  | 6.4\n",
       "... (4990 rows omitted)"
      ],
      "text/html": [
       "<table border=\"1\" class=\"dataframe\">\n",
       "    <thead>\n",
       "        <tr>\n",
       "            <th>Student_ID</th> <th>First_Name</th> <th>Last_Name</th> <th>Email</th> <th>Gender</th> <th>Age</th> <th>Department</th> <th>Attendance (%)</th> <th>Midterm_Score</th> <th>Final_Score</th> <th>Assignments_Avg</th> <th>Quizzes_Avg</th> <th>Participation_Score</th> <th>Projects_Score</th> <th>Total_Score</th> <th>Grade</th> <th>Study_Hours_per_Week</th> <th>Extracurricular_Activities</th> <th>Internet_Access_at_Home</th> <th>Parent_Education_Level</th> <th>Family_Income_Level</th> <th>Stress_Level (1-10)</th> <th>Sleep_Hours_per_Night</th>\n",
       "        </tr>\n",
       "    </thead>\n",
       "    <tbody>\n",
       "        <tr>\n",
       "            <td>S1000     </td> <td>Omar      </td> <td>Williams </td> <td>student0@university.com</td> <td>Female</td> <td>22  </td> <td>Engineering</td> <td>52.29         </td> <td>55.03        </td> <td>57.82      </td> <td>84.22          </td> <td>74.06      </td> <td>3.99               </td> <td>85.9          </td> <td>56.09      </td> <td>F    </td> <td>6.2                 </td> <td>No                        </td> <td>Yes                    </td> <td>High School           </td> <td>Medium             </td> <td>5                  </td> <td>4.7                  </td>\n",
       "        </tr>\n",
       "        <tr>\n",
       "            <td>S1001     </td> <td>Maria     </td> <td>Brown    </td> <td>student1@university.com</td> <td>Male  </td> <td>18  </td> <td>Engineering</td> <td>97.27         </td> <td>97.23        </td> <td>45.8       </td> <td>nan            </td> <td>94.24      </td> <td>8.32               </td> <td>55.65         </td> <td>50.64      </td> <td>A    </td> <td>19                  </td> <td>No                        </td> <td>Yes                    </td> <td>nan                   </td> <td>Medium             </td> <td>4                  </td> <td>9                    </td>\n",
       "        </tr>\n",
       "        <tr>\n",
       "            <td>S1002     </td> <td>Ahmed     </td> <td>Jones    </td> <td>student2@university.com</td> <td>Male  </td> <td>24  </td> <td>Business   </td> <td>57.19         </td> <td>67.05        </td> <td>93.68      </td> <td>67.7           </td> <td>85.7       </td> <td>5.05               </td> <td>73.79         </td> <td>70.3       </td> <td>D    </td> <td>20.7                </td> <td>No                        </td> <td>Yes                    </td> <td>Master's              </td> <td>Low                </td> <td>6                  </td> <td>6.2                  </td>\n",
       "        </tr>\n",
       "        <tr>\n",
       "            <td>S1003     </td> <td>Omar      </td> <td>Williams </td> <td>student3@university.com</td> <td>Female</td> <td>24  </td> <td>Mathematics</td> <td>95.15         </td> <td>47.79        </td> <td>80.63      </td> <td>66.06          </td> <td>93.51      </td> <td>6.54               </td> <td>92.12         </td> <td>61.63      </td> <td>A    </td> <td>24.8                </td> <td>Yes                       </td> <td>Yes                    </td> <td>High School           </td> <td>High               </td> <td>3                  </td> <td>6.7                  </td>\n",
       "        </tr>\n",
       "        <tr>\n",
       "            <td>S1004     </td> <td>John      </td> <td>Smith    </td> <td>student4@university.com</td> <td>Female</td> <td>23  </td> <td>CS         </td> <td>54.18         </td> <td>46.59        </td> <td>78.89      </td> <td>96.85          </td> <td>83.7       </td> <td>5.97               </td> <td>68.42         </td> <td>66.13      </td> <td>F    </td> <td>15.4                </td> <td>Yes                       </td> <td>Yes                    </td> <td>High School           </td> <td>High               </td> <td>2                  </td> <td>7.1                  </td>\n",
       "        </tr>\n",
       "        <tr>\n",
       "            <td>S1005     </td> <td>Liam      </td> <td>Brown    </td> <td>student5@university.com</td> <td>Male  </td> <td>21  </td> <td>Engineering</td> <td>nan           </td> <td>78.85        </td> <td>43.53      </td> <td>71.4           </td> <td>52.2       </td> <td>6.38               </td> <td>67.29         </td> <td>62.08      </td> <td>B    </td> <td>8.5                 </td> <td>Yes                       </td> <td>Yes                    </td> <td>PhD                   </td> <td>High               </td> <td>1                  </td> <td>5                    </td>\n",
       "        </tr>\n",
       "        <tr>\n",
       "            <td>S1006     </td> <td>Ahmed     </td> <td>Jones    </td> <td>student6@university.com</td> <td>Male  </td> <td>24  </td> <td>Business   </td> <td>57.6          </td> <td>66.26        </td> <td>89.07      </td> <td>84.52          </td> <td>98.4       </td> <td>2.3                </td> <td>93.65         </td> <td>83.21      </td> <td>F    </td> <td>21.3                </td> <td>No                        </td> <td>Yes                    </td> <td>nan                   </td> <td>Low                </td> <td>5                  </td> <td>6.4                  </td>\n",
       "        </tr>\n",
       "        <tr>\n",
       "            <td>S1007     </td> <td>Ahmed     </td> <td>Smith    </td> <td>student7@university.com</td> <td>Male  </td> <td>19  </td> <td>Engineering</td> <td>51.91         </td> <td>45.67        </td> <td>73.96      </td> <td>80.12          </td> <td>95.9       </td> <td>3.73               </td> <td>93.24         </td> <td>81.93      </td> <td>F    </td> <td>27.3                </td> <td>Yes                       </td> <td>No                     </td> <td>nan                   </td> <td>Medium             </td> <td>4                  </td> <td>4.3                  </td>\n",
       "        </tr>\n",
       "        <tr>\n",
       "            <td>S1008     </td> <td>Omar      </td> <td>Smith    </td> <td>student8@university.com</td> <td>Female</td> <td>21  </td> <td>CS         </td> <td>85.97         </td> <td>84.42        </td> <td>90.87      </td> <td>57.05          </td> <td>56.33      </td> <td>0.51               </td> <td>94.01         </td> <td>95.62      </td> <td>A    </td> <td>8                   </td> <td>No                        </td> <td>No                     </td> <td>Bachelor's            </td> <td>Low                </td> <td>9                  </td> <td>8.8                  </td>\n",
       "        </tr>\n",
       "        <tr>\n",
       "            <td>S1009     </td> <td>Sara      </td> <td>Smith    </td> <td>student9@university.com</td> <td>Female</td> <td>22  </td> <td>Engineering</td> <td>64.01         </td> <td>87.96        </td> <td>98.47      </td> <td>96.98          </td> <td>55.63      </td> <td>5.88               </td> <td>78.6          </td> <td>84.99      </td> <td>A    </td> <td>9.6                 </td> <td>No                        </td> <td>Yes                    </td> <td>nan                   </td> <td>Medium             </td> <td>10                 </td> <td>6.4                  </td>\n",
       "        </tr>\n",
       "    </tbody>\n",
       "</table>\n",
       "<p>... (4990 rows omitted)</p>"
      ]
     },
     "execution_count": 3,
     "metadata": {},
     "output_type": "execute_result"
    }
   ],
   "execution_count": 3
  },
  {
   "metadata": {
    "ExecuteTime": {
     "end_time": "2025-04-12T11:44:37.758146Z",
     "start_time": "2025-04-12T11:44:37.273966Z"
    }
   },
   "cell_type": "code",
   "source": [
    "stu_score = stu_grade.select('Midterm_Score', 'Final_Score', 'Assignments_Avg', 'Quizzes_Avg', 'Participation_Score', 'Projects_Score', 'Total_Score', 'Grade')\n",
    "stu_score"
   ],
   "id": "72bd3e5e6da1b793",
   "outputs": [
    {
     "data": {
      "text/plain": [
       "Midterm_Score | Final_Score | Assignments_Avg | Quizzes_Avg | Participation_Score | Projects_Score | Total_Score | Grade\n",
       "55.03         | 57.82       | 84.22           | 74.06       | 3.99                | 85.9           | 56.09       | F\n",
       "97.23         | 45.8        | nan             | 94.24       | 8.32                | 55.65          | 50.64       | A\n",
       "67.05         | 93.68       | 67.7            | 85.7        | 5.05                | 73.79          | 70.3        | D\n",
       "47.79         | 80.63       | 66.06           | 93.51       | 6.54                | 92.12          | 61.63       | A\n",
       "46.59         | 78.89       | 96.85           | 83.7        | 5.97                | 68.42          | 66.13       | F\n",
       "78.85         | 43.53       | 71.4            | 52.2        | 6.38                | 67.29          | 62.08       | B\n",
       "66.26         | 89.07       | 84.52           | 98.4        | 2.3                 | 93.65          | 83.21       | F\n",
       "45.67         | 73.96       | 80.12           | 95.9        | 3.73                | 93.24          | 81.93       | F\n",
       "84.42         | 90.87       | 57.05           | 56.33       | 0.51                | 94.01          | 95.62       | A\n",
       "87.96         | 98.47       | 96.98           | 55.63       | 5.88                | 78.6           | 84.99       | A\n",
       "... (4990 rows omitted)"
      ],
      "text/html": [
       "<table border=\"1\" class=\"dataframe\">\n",
       "    <thead>\n",
       "        <tr>\n",
       "            <th>Midterm_Score</th> <th>Final_Score</th> <th>Assignments_Avg</th> <th>Quizzes_Avg</th> <th>Participation_Score</th> <th>Projects_Score</th> <th>Total_Score</th> <th>Grade</th>\n",
       "        </tr>\n",
       "    </thead>\n",
       "    <tbody>\n",
       "        <tr>\n",
       "            <td>55.03        </td> <td>57.82      </td> <td>84.22          </td> <td>74.06      </td> <td>3.99               </td> <td>85.9          </td> <td>56.09      </td> <td>F    </td>\n",
       "        </tr>\n",
       "        <tr>\n",
       "            <td>97.23        </td> <td>45.8       </td> <td>nan            </td> <td>94.24      </td> <td>8.32               </td> <td>55.65         </td> <td>50.64      </td> <td>A    </td>\n",
       "        </tr>\n",
       "        <tr>\n",
       "            <td>67.05        </td> <td>93.68      </td> <td>67.7           </td> <td>85.7       </td> <td>5.05               </td> <td>73.79         </td> <td>70.3       </td> <td>D    </td>\n",
       "        </tr>\n",
       "        <tr>\n",
       "            <td>47.79        </td> <td>80.63      </td> <td>66.06          </td> <td>93.51      </td> <td>6.54               </td> <td>92.12         </td> <td>61.63      </td> <td>A    </td>\n",
       "        </tr>\n",
       "        <tr>\n",
       "            <td>46.59        </td> <td>78.89      </td> <td>96.85          </td> <td>83.7       </td> <td>5.97               </td> <td>68.42         </td> <td>66.13      </td> <td>F    </td>\n",
       "        </tr>\n",
       "        <tr>\n",
       "            <td>78.85        </td> <td>43.53      </td> <td>71.4           </td> <td>52.2       </td> <td>6.38               </td> <td>67.29         </td> <td>62.08      </td> <td>B    </td>\n",
       "        </tr>\n",
       "        <tr>\n",
       "            <td>66.26        </td> <td>89.07      </td> <td>84.52          </td> <td>98.4       </td> <td>2.3                </td> <td>93.65         </td> <td>83.21      </td> <td>F    </td>\n",
       "        </tr>\n",
       "        <tr>\n",
       "            <td>45.67        </td> <td>73.96      </td> <td>80.12          </td> <td>95.9       </td> <td>3.73               </td> <td>93.24         </td> <td>81.93      </td> <td>F    </td>\n",
       "        </tr>\n",
       "        <tr>\n",
       "            <td>84.42        </td> <td>90.87      </td> <td>57.05          </td> <td>56.33      </td> <td>0.51               </td> <td>94.01         </td> <td>95.62      </td> <td>A    </td>\n",
       "        </tr>\n",
       "        <tr>\n",
       "            <td>87.96        </td> <td>98.47      </td> <td>96.98          </td> <td>55.63      </td> <td>5.88               </td> <td>78.6          </td> <td>84.99      </td> <td>A    </td>\n",
       "        </tr>\n",
       "    </tbody>\n",
       "</table>\n",
       "<p>... (4990 rows omitted)</p>"
      ]
     },
     "execution_count": 4,
     "metadata": {},
     "output_type": "execute_result"
    }
   ],
   "execution_count": 4
  },
  {
   "cell_type": "markdown",
   "id": "a59c6c2d",
   "metadata": {},
   "source": [
    "<!-- END QUESTION -->\n",
    "\n",
    "<hr style=\"border: 5px solid #003262;\" />\n",
    "<hr style=\"border: 1px solid #fdb515;\" />\n",
    "\n",
    "## 1. Overall\n"
   ]
  },
  {
   "metadata": {},
   "cell_type": "markdown",
   "source": "First, we will check where rows has NaN, is this student have 'F' grade?",
   "id": "60a9f0ebad75bc71"
  },
  {
   "metadata": {
    "ExecuteTime": {
     "end_time": "2025-04-12T12:21:15.461471Z",
     "start_time": "2025-04-12T12:21:15.151635Z"
    }
   },
   "cell_type": "code",
   "source": [
    "# Lấy các cột điểm\n",
    "scores_columns = ['Midterm_Score', 'Final_Score', 'Assignments_Avg',\n",
    "                  'Quizzes_Avg', 'Participation_Score', 'Projects_Score',\n",
    "                  'Total_Score']\n",
    "\n",
    "# Kiểm tra các hàng có ít nhất một điểm bị thiếu (NaN)\n",
    "rows_with_nan = np.any([\n",
    "    np.isnan(stu_score.column(col)) for col in scores_columns\n",
    "], axis=0)\n",
    "\n",
    "# Lấy cột Grade để kiểm tra tỷ lệ F\n",
    "grades_for_nan_rows = stu_score.column('Grade')[rows_with_nan]\n",
    "\n",
    "# Kiểm tra số lượng sinh viên có Grade F trong số đó\n",
    "f_count = np.sum(grades_for_nan_rows == \"F\")\n",
    "nan_rows_count = np.sum(rows_with_nan)\n",
    "\n",
    "# In kết quả\n",
    "print(f\"Số dòng có ít nhất một điểm bị thiếu: {nan_rows_count}\")\n",
    "print(f\"Số dòng có Grade là 'F' khi điểm bị thiếu: {f_count}\")\n",
    "print(f\"Tỷ lệ bị F khi điểm bị thiếu: {f_count / nan_rows_count:.2%}\" if nan_rows_count > 0 else \"Không có điểm thiếu\")\n"
   ],
   "id": "6d3996f87f64bff4",
   "outputs": [
    {
     "name": "stdout",
     "output_type": "stream",
     "text": [
      "Số dòng có ít nhất một điểm bị thiếu: 517\n",
      "Số dòng có Grade là 'F' khi điểm bị thiếu: 90\n",
      "Tỷ lệ bị F khi điểm bị thiếu: 17.41%\n"
     ]
    }
   ],
   "execution_count": 22
  },
  {
   "metadata": {},
   "cell_type": "markdown",
   "source": "In this result, we can see that the missing score don't affect to grade, or not of all score affect on it. Let check the important score that Midterm, Project and Final score.",
   "id": "a2052ebfc5cc91da"
  },
  {
   "metadata": {
    "ExecuteTime": {
     "end_time": "2025-04-12T12:27:16.306757Z",
     "start_time": "2025-04-12T12:27:15.954672Z"
    }
   },
   "cell_type": "code",
   "source": [
    "# Lọc các sinh viên có Midterm_Score bị thiếu (NaN)\n",
    "midterm_missing_rows = np.isnan(stu_score.column('Midterm_Score'))\n",
    "\n",
    "# Lấy số lượng sinh viên có Midterm bị thiếu\n",
    "num_midterm_missing = np.sum(midterm_missing_rows)\n",
    "\n",
    "# Kiểm tra số lượng sinh viên có Grade F trong nhóm này\n",
    "grades_for_missing_midterm = stu_score.column('Grade')[midterm_missing_rows]\n",
    "num_f_when_midterm_missing = np.sum(grades_for_missing_midterm == \"F\")\n",
    "\n",
    "# In kết quả\n",
    "print(f\"Số dòng có Midterm_Score bị thiếu: {num_midterm_missing}\")\n",
    "print(f\"Số dòng có Grade là 'F' khi Midterm bị thiếu: {num_f_when_midterm_missing}\")\n",
    "print(f\"Tỷ lệ bị F khi Midterm bị thiếu: {num_f_when_midterm_missing / num_midterm_missing:.2%}\" if num_midterm_missing > 0 else \"Không có sinh viên thiếu điểm Midterm\")\n"
   ],
   "id": "2e8eae2688edc052",
   "outputs": [
    {
     "name": "stdout",
     "output_type": "stream",
     "text": [
      "Số dòng có Midterm_Score bị thiếu: 0\n",
      "Số dòng có Grade là 'F' khi Midterm bị thiếu: 0\n",
      "Không có sinh viên thiếu điểm Midterm\n"
     ]
    }
   ],
   "execution_count": 23
  },
  {
   "metadata": {
    "ExecuteTime": {
     "end_time": "2025-04-12T12:28:20.532280Z",
     "start_time": "2025-04-12T12:28:20.262286Z"
    }
   },
   "cell_type": "code",
   "source": [
    "# Lọc các sinh viên có Final_Score bị thiếu (NaN)\n",
    "final_missing_rows = np.isnan(stu_score.column('Final_Score'))\n",
    "\n",
    "# Lấy số lượng sinh viên có Final bị thiếu\n",
    "num_final_missing = np.sum(final_missing_rows)\n",
    "\n",
    "# Kiểm tra số lượng sinh viên có Grade F trong nhóm này\n",
    "grades_for_missing_final = stu_score.column('Grade')[final_missing_rows]\n",
    "num_f_when_final_missing = np.sum(grades_for_missing_final == \"F\")\n",
    "\n",
    "# In kết quả\n",
    "print(f\"Số dòng có Final_Score bị thiếu: {num_final_missing}\")\n",
    "print(f\"Số dòng có Grade là 'F' khi Final bị thiếu: {num_f_when_final_missing}\")\n",
    "print(f\"Tỷ lệ bị F khi Final bị thiếu: {num_f_when_final_missing / num_final_missing:.2%}\" if num_final_missing > 0 else \"Không có sinh viên thiếu điểm Final\")"
   ],
   "id": "5b61c8966a73247d",
   "outputs": [
    {
     "name": "stdout",
     "output_type": "stream",
     "text": [
      "Số dòng có Final_Score bị thiếu: 0\n",
      "Số dòng có Grade là 'F' khi Final bị thiếu: 0\n",
      "Không có sinh viên thiếu điểm Final\n"
     ]
    }
   ],
   "execution_count": 24
  },
  {
   "metadata": {
    "ExecuteTime": {
     "end_time": "2025-04-12T12:29:12.666507Z",
     "start_time": "2025-04-12T12:29:12.075723Z"
    }
   },
   "cell_type": "code",
   "source": [
    "# Lọc các sinh viên có Projects_Score bị thiếu (NaN)\n",
    "projects_missing_rows = np.isnan(stu_score.column('Projects_Score'))\n",
    "\n",
    "# Lấy số lượng sinh viên có Project bị thiếu\n",
    "num_projects_missing = np.sum(projects_missing_rows)\n",
    "\n",
    "# Kiểm tra số lượng sinh viên có Grade F trong nhóm này\n",
    "grades_for_missing_projects = stu_score.column('Grade')[projects_missing_rows]\n",
    "num_f_when_projects_missing = np.sum(grades_for_missing_projects == \"F\")\n",
    "\n",
    "# In kết quả\n",
    "print(f\"Số dòng có Projects_Score bị thiếu: {num_projects_missing}\")\n",
    "print(f\"Số dòng có Grade là 'F' khi Projects bị thiếu: {num_f_when_projects_missing}\")\n",
    "print(f\"Tỷ lệ bị F khi Projects bị thiếu: {num_f_when_projects_missing / num_projects_missing:.2%}\" if num_projects_missing > 0 else \"Không có sinh viên thiếu điểm Projects\")"
   ],
   "id": "675403543962c01c",
   "outputs": [
    {
     "name": "stdout",
     "output_type": "stream",
     "text": [
      "Số dòng có Projects_Score bị thiếu: 0\n",
      "Số dòng có Grade là 'F' khi Projects bị thiếu: 0\n",
      "Không có sinh viên thiếu điểm Projects\n"
     ]
    }
   ],
   "execution_count": 25
  },
  {
   "metadata": {},
   "cell_type": "markdown",
   "source": [
    "We can see that the main score as midterm, final or project are not missing, so that the missing value don't affect on the total grade.\n",
    "\n",
    "The next step, I will use the model \"Linear Regression\" to find the relationship of score element and grade."
   ],
   "id": "4d94152d32bd75b9"
  },
  {
   "metadata": {},
   "cell_type": "markdown",
   "source": [
    "<!-- END QUESTION -->\n",
    "\n",
    "<hr style=\"border: 5px solid #003262;\" />\n",
    "<hr style=\"border: 1px solid #fdb515;\" />\n",
    "\n",
    "## 2. KNN Model\n"
   ],
   "id": "23c38009986f9a1c"
  },
  {
   "metadata": {
    "ExecuteTime": {
     "end_time": "2025-04-12T13:09:40.859580Z",
     "start_time": "2025-04-12T13:09:40.036253Z"
    }
   },
   "cell_type": "code",
   "source": [
    "def euclidean_distance(x1, x2):\n",
    "    \"\"\"Tính khoảng cách Euclid giữa hai điểm.\"\"\"\n",
    "    return np.sqrt(np.sum((x1 - x2) ** 2))\n",
    "\n",
    "def knn_predict(tbl, predictors, target, k=5):\n",
    "    \"\"\"Triển khai K-Nearest Neighbors không dùng thư viện ngoài.\"\"\"\n",
    "\n",
    "    X = np.column_stack([tbl.column(col) for col in predictors])  # Lấy dữ liệu đầu vào\n",
    "    Y = np.array(tbl.column(target))  # Lấy nhãn thực tế\n",
    "\n",
    "    predictions = []  # Lưu kết quả dự đoán\n",
    "\n",
    "    for i in range(len(X)):\n",
    "        distances = np.array([euclidean_distance(X[i], X[j]) for j in range(len(X))])  # Tính khoảng cách với tất cả các điểm\n",
    "        neighbors_idx = distances.argsort()[:k]  # Lấy K điểm gần nhất\n",
    "        neighbor_grades = Y[neighbors_idx]  # Lấy Grade của K điểm gần nhất\n",
    "\n",
    "        # Dự đoán là giá trị xuất hiện nhiều nhất trong K điểm gần nhất\n",
    "        unique, counts = np.unique(neighbor_grades, return_counts=True)\n",
    "        predicted_grade = unique[np.argmax(counts)]\n",
    "        predictions.append(predicted_grade)\n",
    "\n",
    "    # Trả về bảng mới có cột dự đoán\n",
    "    return tbl.with_column(f'Predicted_{target}', predictions)"
   ],
   "id": "77360142763d7c7a",
   "outputs": [],
   "execution_count": 33
  },
  {
   "metadata": {
    "ExecuteTime": {
     "end_time": "2025-04-12T13:13:31.339803Z",
     "start_time": "2025-04-12T13:10:01.740810Z"
    }
   },
   "cell_type": "code",
   "source": [
    "predictors = ['Midterm_Score', 'Final_Score', 'Assignments_Avg', 'Quizzes_Avg',\n",
    "              'Participation_Score', 'Projects_Score', 'Total_Score']\n",
    "\n",
    "stu_score = knn_predict(stu_score, predictors, 'Grade', k=5)\n",
    "\n",
    "# Kiểm tra kết quả\n",
    "stu_score.select('Midterm_Score', 'Final_Score', 'Projects_Score', 'Grade', 'Predicted_Grade').show(5)"
   ],
   "id": "52c5cfaf012a1701",
   "outputs": [
    {
     "data": {
      "text/plain": [
       "<IPython.core.display.HTML object>"
      ],
      "text/html": [
       "<table border=\"1\" class=\"dataframe\">\n",
       "    <thead>\n",
       "        <tr>\n",
       "            <th>Midterm_Score</th> <th>Final_Score</th> <th>Projects_Score</th> <th>Grade</th> <th>Predicted_Grade</th>\n",
       "        </tr>\n",
       "    </thead>\n",
       "    <tbody>\n",
       "        <tr>\n",
       "            <td>55.03        </td> <td>57.82      </td> <td>85.9          </td> <td>F    </td> <td>A              </td>\n",
       "        </tr>\n",
       "        <tr>\n",
       "            <td>97.23        </td> <td>45.8       </td> <td>55.65         </td> <td>A    </td> <td>A              </td>\n",
       "        </tr>\n",
       "        <tr>\n",
       "            <td>67.05        </td> <td>93.68      </td> <td>73.79         </td> <td>D    </td> <td>A              </td>\n",
       "        </tr>\n",
       "        <tr>\n",
       "            <td>47.79        </td> <td>80.63      </td> <td>92.12         </td> <td>A    </td> <td>F              </td>\n",
       "        </tr>\n",
       "        <tr>\n",
       "            <td>46.59        </td> <td>78.89      </td> <td>68.42         </td> <td>F    </td> <td>D              </td>\n",
       "        </tr>\n",
       "    </tbody>\n",
       "</table>\n",
       "<p>... (4995 rows omitted)</p>"
      ]
     },
     "metadata": {},
     "output_type": "display_data"
    }
   ],
   "execution_count": 34
  },
  {
   "metadata": {
    "ExecuteTime": {
     "end_time": "2025-04-12T13:26:13.298910Z",
     "start_time": "2025-04-12T13:26:12.631777Z"
    }
   },
   "cell_type": "code",
   "source": [
    "# Lấy cột Grade thực tế và Grade dự đoán\n",
    "actual_grades = stu_score.column('Grade')\n",
    "predicted_grades = stu_score.column('Predicted_Grade')\n",
    "\n",
    "# Tính số lần dự đoán đúng\n",
    "correct_predictions = np.sum(actual_grades == predicted_grades)\n",
    "\n",
    "# Tính tỷ lệ chính xác\n",
    "accuracy = correct_predictions / len(actual_grades) * 100\n",
    "\n",
    "# In kết quả\n",
    "print(f\"Số lần dự đoán đúng: {correct_predictions}\")\n",
    "print(f\"Tổng số dòng: {len(actual_grades)}\")\n",
    "print(f\"Tỷ lệ chính xác của mô hình: {accuracy:.2f}%\")"
   ],
   "id": "35f7d4519b33f407",
   "outputs": [
    {
     "name": "stdout",
     "output_type": "stream",
     "text": [
      "Số lần dự đoán đúng: 2269\n",
      "Tổng số dòng: 5000\n",
      "Tỷ lệ chính xác của mô hình: 45.38%\n"
     ]
    }
   ],
   "execution_count": 36
  },
  {
   "metadata": {},
   "cell_type": "markdown",
   "source": "This prediction is so low, we must predict on \"group score\", I will divide it in three main type. First one is Assigment, Quizzes, Participation. This is a group of score that is evaluated by the level of theoretical learning in class.",
   "id": "c910e55af5bbd9f5"
  },
  {
   "metadata": {
    "ExecuteTime": {
     "end_time": "2025-04-12T14:01:51.501135Z",
     "start_time": "2025-04-12T13:59:12.586121Z"
    }
   },
   "cell_type": "code",
   "source": [
    "theo_predictors = ['Assignments_Avg', 'Quizzes_Avg', 'Participation_Score']\n",
    "\n",
    "stu_score = knn_predict(stu_score, theo_predictors, 'Grade', k=5)\n",
    "\n",
    "# Kiểm tra kết quả\n",
    "stu_score.select('Assignments_Avg', 'Quizzes_Avg', 'Participation_Score', 'Grade', 'Predicted_Grade').show(5)"
   ],
   "id": "cad8a3ebaf6d0b50",
   "outputs": [
    {
     "data": {
      "text/plain": [
       "<IPython.core.display.HTML object>"
      ],
      "text/html": [
       "<table border=\"1\" class=\"dataframe\">\n",
       "    <thead>\n",
       "        <tr>\n",
       "            <th>Assignments_Avg</th> <th>Quizzes_Avg</th> <th>Participation_Score</th> <th>Grade</th> <th>Predicted_Grade</th>\n",
       "        </tr>\n",
       "    </thead>\n",
       "    <tbody>\n",
       "        <tr>\n",
       "            <td>84.22          </td> <td>74.06      </td> <td>3.99               </td> <td>F    </td> <td>F              </td>\n",
       "        </tr>\n",
       "        <tr>\n",
       "            <td>nan            </td> <td>94.24      </td> <td>8.32               </td> <td>A    </td> <td>A              </td>\n",
       "        </tr>\n",
       "        <tr>\n",
       "            <td>67.7           </td> <td>85.7       </td> <td>5.05               </td> <td>D    </td> <td>D              </td>\n",
       "        </tr>\n",
       "        <tr>\n",
       "            <td>66.06          </td> <td>93.51      </td> <td>6.54               </td> <td>A    </td> <td>A              </td>\n",
       "        </tr>\n",
       "        <tr>\n",
       "            <td>96.85          </td> <td>83.7       </td> <td>5.97               </td> <td>F    </td> <td>A              </td>\n",
       "        </tr>\n",
       "    </tbody>\n",
       "</table>\n",
       "<p>... (4995 rows omitted)</p>"
      ]
     },
     "metadata": {},
     "output_type": "display_data"
    }
   ],
   "execution_count": 37
  },
  {
   "metadata": {
    "ExecuteTime": {
     "end_time": "2025-04-12T14:02:47.541860Z",
     "start_time": "2025-04-12T14:02:47.148169Z"
    }
   },
   "cell_type": "code",
   "source": [
    "# Lấy cột Grade thực tế và Grade dự đoán\n",
    "actual_grades = stu_score.column('Grade')\n",
    "predicted_grades = stu_score.column('Predicted_Grade')\n",
    "\n",
    "# Tính số lần dự đoán đúng\n",
    "correct_predictions = np.sum(actual_grades == predicted_grades)\n",
    "\n",
    "# Tính tỷ lệ chính xác\n",
    "accuracy = correct_predictions / len(actual_grades) * 100\n",
    "\n",
    "# In kết quả\n",
    "print(f\"Số lần dự đoán đúng: {correct_predictions}\")\n",
    "print(f\"Tổng số dòng: {len(actual_grades)}\")\n",
    "print(f\"Tỷ lệ chính xác của mô hình: {accuracy:.2f}%\")"
   ],
   "id": "810d306dd0dfc540",
   "outputs": [
    {
     "name": "stdout",
     "output_type": "stream",
     "text": [
      "Số lần dự đoán đúng: 2201\n",
      "Tổng số dòng: 5000\n",
      "Tỷ lệ chính xác của mô hình: 44.02%\n"
     ]
    }
   ],
   "execution_count": 38
  },
  {
   "metadata": {},
   "cell_type": "markdown",
   "source": "Second is practice, this one has only one element is Project.",
   "id": "aa2ffa84359b00b"
  },
  {
   "metadata": {
    "ExecuteTime": {
     "end_time": "2025-04-12T14:07:26.742503Z",
     "start_time": "2025-04-12T14:04:53.513670Z"
    }
   },
   "cell_type": "code",
   "source": [
    "prac_predictors = ['Projects_Score']\n",
    "\n",
    "stu_score = knn_predict(stu_score, prac_predictors, 'Grade', k=5)\n",
    "\n",
    "# Kiểm tra kết quả\n",
    "stu_score.select('Projects_Score', 'Grade', 'Predicted_Grade').show(5)"
   ],
   "id": "37e0a18e72fe8d55",
   "outputs": [
    {
     "data": {
      "text/plain": [
       "<IPython.core.display.HTML object>"
      ],
      "text/html": [
       "<table border=\"1\" class=\"dataframe\">\n",
       "    <thead>\n",
       "        <tr>\n",
       "            <th>Projects_Score</th> <th>Grade</th> <th>Predicted_Grade</th>\n",
       "        </tr>\n",
       "    </thead>\n",
       "    <tbody>\n",
       "        <tr>\n",
       "            <td>85.9          </td> <td>F    </td> <td>D              </td>\n",
       "        </tr>\n",
       "        <tr>\n",
       "            <td>55.65         </td> <td>A    </td> <td>A              </td>\n",
       "        </tr>\n",
       "        <tr>\n",
       "            <td>73.79         </td> <td>D    </td> <td>A              </td>\n",
       "        </tr>\n",
       "        <tr>\n",
       "            <td>92.12         </td> <td>A    </td> <td>A              </td>\n",
       "        </tr>\n",
       "        <tr>\n",
       "            <td>68.42         </td> <td>F    </td> <td>F              </td>\n",
       "        </tr>\n",
       "    </tbody>\n",
       "</table>\n",
       "<p>... (4995 rows omitted)</p>"
      ]
     },
     "metadata": {},
     "output_type": "display_data"
    }
   ],
   "execution_count": 41
  },
  {
   "metadata": {
    "ExecuteTime": {
     "end_time": "2025-04-12T14:08:03.217593Z",
     "start_time": "2025-04-12T14:08:02.534725Z"
    }
   },
   "cell_type": "code",
   "source": [
    "# Lấy cột Grade thực tế và Grade dự đoán\n",
    "actual_grades = stu_score.column('Grade')\n",
    "predicted_grades = stu_score.column('Predicted_Grade')\n",
    "\n",
    "# Tính số lần dự đoán đúng\n",
    "correct_predictions = np.sum(actual_grades == predicted_grades)\n",
    "\n",
    "# Tính tỷ lệ chính xác\n",
    "accuracy = correct_predictions / len(actual_grades) * 100\n",
    "\n",
    "# In kết quả\n",
    "print(f\"Số lần dự đoán đúng: {correct_predictions}\")\n",
    "print(f\"Tổng số dòng: {len(actual_grades)}\")\n",
    "print(f\"Tỷ lệ chính xác của mô hình: {accuracy:.2f}%\")"
   ],
   "id": "5048661c5653341d",
   "outputs": [
    {
     "name": "stdout",
     "output_type": "stream",
     "text": [
      "Số lần dự đoán đúng: 2291\n",
      "Tổng số dòng: 5000\n",
      "Tỷ lệ chính xác của mô hình: 45.82%\n"
     ]
    }
   ],
   "execution_count": 42
  },
  {
   "metadata": {},
   "cell_type": "markdown",
   "source": "Third is Exam, include Midterm, Final score.\n",
   "id": "e90adb0589770132"
  },
  {
   "metadata": {
    "ExecuteTime": {
     "end_time": "2025-04-12T14:17:59.390852Z",
     "start_time": "2025-04-12T14:15:20.022837Z"
    }
   },
   "cell_type": "code",
   "source": [
    "exam_predictors = ['Midterm_Score', 'Final_Score']\n",
    "\n",
    "stu_score = knn_predict(stu_score, exam_predictors, 'Grade', k=5)\n",
    "\n",
    "# Kiểm tra kết quả\n",
    "stu_score.select('Midterm_Score', 'Final_Score', 'Grade', 'Predicted_Grade').show(5)"
   ],
   "id": "4e1bb9422190a1ee",
   "outputs": [
    {
     "data": {
      "text/plain": [
       "<IPython.core.display.HTML object>"
      ],
      "text/html": [
       "<table border=\"1\" class=\"dataframe\">\n",
       "    <thead>\n",
       "        <tr>\n",
       "            <th>Midterm_Score</th> <th>Final_Score</th> <th>Grade</th> <th>Predicted_Grade</th>\n",
       "        </tr>\n",
       "    </thead>\n",
       "    <tbody>\n",
       "        <tr>\n",
       "            <td>55.03        </td> <td>57.82      </td> <td>F    </td> <td>A              </td>\n",
       "        </tr>\n",
       "        <tr>\n",
       "            <td>97.23        </td> <td>45.8       </td> <td>A    </td> <td>A              </td>\n",
       "        </tr>\n",
       "        <tr>\n",
       "            <td>67.05        </td> <td>93.68      </td> <td>D    </td> <td>A              </td>\n",
       "        </tr>\n",
       "        <tr>\n",
       "            <td>47.79        </td> <td>80.63      </td> <td>A    </td> <td>C              </td>\n",
       "        </tr>\n",
       "        <tr>\n",
       "            <td>46.59        </td> <td>78.89      </td> <td>F    </td> <td>A              </td>\n",
       "        </tr>\n",
       "    </tbody>\n",
       "</table>\n",
       "<p>... (4995 rows omitted)</p>"
      ]
     },
     "metadata": {},
     "output_type": "display_data"
    }
   ],
   "execution_count": 43
  },
  {
   "metadata": {
    "ExecuteTime": {
     "end_time": "2025-04-12T14:18:59.579935Z",
     "start_time": "2025-04-12T14:18:59.239211Z"
    }
   },
   "cell_type": "code",
   "source": [
    "# Lấy cột Grade thực tế và Grade dự đoán\n",
    "actual_grades = stu_score.column('Grade')\n",
    "predicted_grades = stu_score.column('Predicted_Grade')\n",
    "\n",
    "# Tính số lần dự đoán đúng\n",
    "correct_predictions = np.sum(actual_grades == predicted_grades)\n",
    "\n",
    "# Tính tỷ lệ chính xác\n",
    "accuracy = correct_predictions / len(actual_grades) * 100\n",
    "\n",
    "# In kết quả\n",
    "print(f\"Số lần dự đoán đúng: {correct_predictions}\")\n",
    "print(f\"Tổng số dòng: {len(actual_grades)}\")\n",
    "print(f\"Tỷ lệ chính xác của mô hình: {accuracy:.2f}%\")"
   ],
   "id": "7afefe9cc964ef81",
   "outputs": [
    {
     "name": "stdout",
     "output_type": "stream",
     "text": [
      "Số lần dự đoán đúng: 2348\n",
      "Tổng số dòng: 5000\n",
      "Tỷ lệ chính xác của mô hình: 46.96%\n"
     ]
    }
   ],
   "execution_count": 44
  },
  {
   "metadata": {},
   "cell_type": "markdown",
   "source": [
    "<!-- END QUESTION -->\n",
    "\n",
    "<hr style=\"border: 5px solid #003262;\" />\n",
    "<hr style=\"border: 1px solid #fdb515;\" />\n",
    "\n",
    "# 3. Linear Regression"
   ],
   "id": "170512575132cfb"
  },
  {
   "metadata": {},
   "cell_type": "markdown",
   "source": "In this perious step, we explore that the same score doesn't make the same grade, so that we will answer the question \"Is better score make better grade?\"",
   "id": "35754f9bb6fb3643"
  },
  {
   "metadata": {
    "ExecuteTime": {
     "end_time": "2025-04-12T14:38:09.150019Z",
     "start_time": "2025-04-12T14:38:07.739727Z"
    }
   },
   "cell_type": "code",
   "source": [
    "# Chuyển Grade về dạng số\n",
    "grade_mapping = {\"F\": 0, \"D\": 1, \"C\": 2, \"B\": 3, \"A\": 4}\n",
    "stu_score = stu_score.with_column('Grade_Numeric', [grade_mapping[g] for g in stu_score.column('Grade')])\n",
    "\n",
    "# Tính hệ số tương quan giữa điểm số và Grade\n",
    "predictors = ['Midterm_Score', 'Final_Score', 'Assignments_Avg', 'Quizzes_Avg',\n",
    "              'Participation_Score', 'Projects_Score', 'Total_Score']\n",
    "\n",
    "for col in predictors:\n",
    "    corr_value = np.corrcoef(stu_score.column(col), stu_score.column('Grade_Numeric'))[0, 1]\n",
    "    print(f\"Hệ số tương quan giữa {col} và Grade: {corr_value:.2f}\")\n",
    "\n",
    "# Dự đoán Grade bằng hồi quy tuyến tính\n",
    "def linear_regression(tbl, col1, col2):\n",
    "    x = tbl.column(col1)\n",
    "    y = tbl.column(col2)\n",
    "\n",
    "    m = np.corrcoef(x, y)[0, 1] * (np.std(y) / np.std(x))  # Hệ số góc\n",
    "    b = np.mean(y) - m * np.mean(x)  # Tung độ gốc\n",
    "\n",
    "    return m * x + b  # Dự đoán giá trị Grade\n",
    "\n",
    "# Áp dụng cho Final_Score\n",
    "predicted_grades = linear_regression(stu_score, 'Final_Score', 'Grade_Numeric')\n",
    "stu_score = stu_score.with_column('Predicted_Grade_Linear', predicted_grades)\n",
    "\n",
    "# Xem kết quả\n",
    "stu_score.select('Final_Score', 'Grade_Numeric', 'Predicted_Grade_Linear').show(5)"
   ],
   "id": "9a5d98e715370825",
   "outputs": [
    {
     "name": "stdout",
     "output_type": "stream",
     "text": [
      "Hệ số tương quan giữa Midterm_Score và Grade: -0.01\n",
      "Hệ số tương quan giữa Final_Score và Grade: -0.03\n",
      "Hệ số tương quan giữa Assignments_Avg và Grade: nan\n",
      "Hệ số tương quan giữa Quizzes_Avg và Grade: -0.03\n",
      "Hệ số tương quan giữa Participation_Score và Grade: -0.02\n",
      "Hệ số tương quan giữa Projects_Score và Grade: -0.01\n",
      "Hệ số tương quan giữa Total_Score và Grade: -0.02\n"
     ]
    },
    {
     "data": {
      "text/plain": [
       "<IPython.core.display.HTML object>"
      ],
      "text/html": [
       "<table border=\"1\" class=\"dataframe\">\n",
       "    <thead>\n",
       "        <tr>\n",
       "            <th>Final_Score</th> <th>Grade_Numeric</th> <th>Predicted_Grade_Linear</th>\n",
       "        </tr>\n",
       "    </thead>\n",
       "    <tbody>\n",
       "        <tr>\n",
       "            <td>57.82      </td> <td>0            </td> <td>2.30672               </td>\n",
       "        </tr>\n",
       "        <tr>\n",
       "            <td>45.8       </td> <td>4            </td> <td>2.33573               </td>\n",
       "        </tr>\n",
       "        <tr>\n",
       "            <td>93.68      </td> <td>1            </td> <td>2.2202                </td>\n",
       "        </tr>\n",
       "        <tr>\n",
       "            <td>80.63      </td> <td>4            </td> <td>2.25168               </td>\n",
       "        </tr>\n",
       "        <tr>\n",
       "            <td>78.89      </td> <td>0            </td> <td>2.25588               </td>\n",
       "        </tr>\n",
       "    </tbody>\n",
       "</table>\n",
       "<p>... (4995 rows omitted)</p>"
      ]
     },
     "metadata": {},
     "output_type": "display_data"
    }
   ],
   "execution_count": 45
  },
  {
   "metadata": {},
   "cell_type": "markdown",
   "source": [
    "<!-- END QUESTION -->\n",
    "\n",
    "<hr style=\"border: 5px solid #003262;\" />\n",
    "<hr style=\"border: 1px solid #fdb515;\" />\n",
    "\n",
    "# 4. Conclusion\n",
    "\n",
    "So that, we can't conclude that Better Score is Better Grade."
   ],
   "id": "dde426cc44f7286c"
  }
 ],
 "metadata": {
  "kernelspec": {
   "display_name": "Python 3 (ipykernel)",
   "language": "python",
   "name": "python3"
  },
  "language_info": {
   "codemirror_mode": {
    "name": "ipython",
    "version": 3
   },
   "file_extension": ".py",
   "mimetype": "text/x-python",
   "name": "python",
   "nbconvert_exporter": "python",
   "pygments_lexer": "ipython3",
   "version": "3.13.2"
  },
  "otter": {
   "OK_FORMAT": true,
   "tests": {
    "q2_1": {
     "name": "q2_1",
     "points": [
      0
     ],
     "suites": [
      {
       "cases": [
        {
         "code": ">>> 1 <= characters_q1 <= 5\nTrue",
         "hidden": false,
         "locked": false
        }
       ],
       "scored": true,
       "setup": "",
       "teardown": "",
       "type": "doctest"
      }
     ]
    },
    "q2_2": {
     "name": "q2_2",
     "points": [
      0
     ],
     "suites": [
      {
       "cases": [
        {
         "code": ">>> 1 <= characters_q2 <= 3\nTrue",
         "hidden": false,
         "locked": false
        }
       ],
       "scored": true,
       "setup": "",
       "teardown": "",
       "type": "doctest"
      }
     ]
    },
    "q3_1": {
     "name": "q3_1",
     "points": [
      0
     ],
     "suites": [
      {
       "cases": [
        {
         "code": ">>> 1 <= names_q1 <= 4\nTrue",
         "hidden": false,
         "locked": false
        }
       ],
       "scored": true,
       "setup": "",
       "teardown": "",
       "type": "doctest"
      }
     ]
    },
    "q3_2": {
     "name": "q3_2",
     "points": [
      0
     ],
     "suites": [
      {
       "cases": [
        {
         "code": ">>> 1 <= names_q2 <= 4\nTrue",
         "hidden": false,
         "locked": false
        }
       ],
       "scored": true,
       "setup": "",
       "teardown": "",
       "type": "doctest"
      }
     ]
    },
    "q3_3": {
     "name": "q3_3",
     "points": [
      0
     ],
     "suites": [
      {
       "cases": [
        {
         "code": ">>> 1 <= names_q3 <= 4\nTrue",
         "hidden": false,
         "locked": false
        }
       ],
       "scored": true,
       "setup": "",
       "teardown": "",
       "type": "doctest"
      }
     ]
    },
    "q4_1": {
     "name": "q4_1",
     "points": [
      0
     ],
     "suites": [
      {
       "cases": [
        {
         "code": ">>> isinstance(biggest_change, (int, float))\nTrue",
         "hidden": false,
         "locked": false
        }
       ],
       "scored": true,
       "setup": "",
       "teardown": "",
       "type": "doctest"
      }
     ]
    },
    "q4_2": {
     "name": "q4_2",
     "points": [
      0,
      0
     ],
     "suites": [
      {
       "cases": [
        {
         "code": ">>> isinstance(smallest_change_major, (int, float))\nTrue",
         "hidden": false,
         "locked": false
        },
        {
         "code": ">>> 1 <= smallest_change_major <= 3\nTrue",
         "hidden": false,
         "locked": false
        }
       ],
       "scored": true,
       "setup": "",
       "teardown": "",
       "type": "doctest"
      }
     ]
    },
    "q4_3": {
     "name": "q4_3",
     "points": [
      0,
      0,
      0
     ],
     "suites": [
      {
       "cases": [
        {
         "code": ">>> isinstance(gws_relative_change, (int, float))\nTrue",
         "hidden": false,
         "locked": false
        },
        {
         "code": ">>> isinstance(linguistics_relative_change, (int, float))\nTrue",
         "hidden": false,
         "locked": false
        },
        {
         "code": ">>> isinstance(rhetoric_relative_change, (int, float))\nTrue",
         "hidden": false,
         "locked": false
        }
       ],
       "scored": true,
       "setup": "",
       "teardown": "",
       "type": "doctest"
      }
     ]
    },
    "q4_4": {
     "name": "q4_4",
     "points": [
      0,
      0
     ],
     "suites": [
      {
       "cases": [
        {
         "code": ">>> isinstance(biggest_rel_change_major, (int, float))\nTrue",
         "hidden": false,
         "locked": false
        },
        {
         "code": ">>> 1 <= biggest_rel_change_major <= 3\nTrue",
         "hidden": false,
         "locked": false
        }
       ],
       "scored": true,
       "setup": "",
       "teardown": "",
       "type": "doctest"
      }
     ]
    },
    "q6_1": {
     "name": "q6_1",
     "points": [
      0
     ],
     "suites": [
      {
       "cases": [
        {
         "code": ">>> 1 <= survivor_answer <= 3\nTrue",
         "hidden": false,
         "locked": false
        }
       ],
       "scored": true,
       "setup": "",
       "teardown": "",
       "type": "doctest"
      }
     ]
    },
    "q7_1": {
     "name": "q7_1",
     "points": [
      4
     ],
     "suites": [
      {
       "cases": [
        {
         "code": ">>> contact == 3\nTrue",
         "hidden": false,
         "locked": false
        }
       ],
       "scored": true,
       "setup": "",
       "teardown": "",
       "type": "doctest"
      }
     ]
    },
    "q7_2": {
     "name": "q7_2",
     "points": [
      4
     ],
     "suites": [
      {
       "cases": [
        {
         "code": ">>> grades == 2\nTrue",
         "hidden": false,
         "locked": false
        }
       ],
       "scored": true,
       "setup": "",
       "teardown": "",
       "type": "doctest"
      }
     ]
    },
    "q7_3": {
     "name": "q7_3",
     "points": [
      4
     ],
     "suites": [
      {
       "cases": [
        {
         "code": ">>> regrade == 2\nTrue",
         "hidden": false,
         "locked": false
        }
       ],
       "scored": true,
       "setup": "",
       "teardown": "",
       "type": "doctest"
      }
     ]
    },
    "q7_4": {
     "name": "q7_4",
     "points": [
      4
     ],
     "suites": [
      {
       "cases": [
        {
         "code": ">>> gradescope == 835871\nTrue",
         "hidden": false,
         "locked": false
        }
       ],
       "scored": true,
       "setup": "",
       "teardown": "",
       "type": "doctest"
      }
     ]
    },
    "q7_5": {
     "name": "q7_5",
     "points": [
      4
     ],
     "suites": [
      {
       "cases": [
        {
         "code": ">>> acceptable == 2\nTrue",
         "hidden": false,
         "locked": false
        }
       ],
       "scored": true,
       "setup": "",
       "teardown": "",
       "type": "doctest"
      }
     ]
    },
    "q7_6": {
     "name": "q7_6",
     "points": [
      4
     ],
     "suites": [
      {
       "cases": [
        {
         "code": ">>> drops == 2\nTrue",
         "hidden": false,
         "locked": false
        }
       ],
       "scored": true,
       "setup": "",
       "teardown": "",
       "type": "doctest"
      }
     ]
    },
    "q7_7": {
     "name": "q7_7",
     "points": [
      3
     ],
     "suites": [
      {
       "cases": [
        {
         "code": ">>> exams == 2\nTrue",
         "hidden": false,
         "locked": false
        }
       ],
       "scored": true,
       "setup": "",
       "teardown": "",
       "type": "doctest"
      }
     ]
    },
    "q7_8": {
     "name": "q7_8",
     "points": [
      0,
      0
     ],
     "suites": [
      {
       "cases": [
        {
         "code": ">>> # Please actually go on Ed and look at the threads.\n>>> # Looks like you didn't make a string.\n>>> type(secret) == str\nTrue",
         "hidden": false,
         "locked": false
        },
        {
         "code": ">>> len(secret)\n8",
         "hidden": false,
         "locked": false
        }
       ],
       "scored": true,
       "setup": "",
       "teardown": "",
       "type": "doctest"
      }
     ]
    },
    "q8_1": {
     "name": "q8_1",
     "points": [
      1
     ],
     "suites": [
      {
       "cases": [
        {
         "code": ">>> survey == \"data8 is data gr8\"\nTrue",
         "hidden": false,
         "locked": false
        }
       ],
       "scored": true,
       "setup": "",
       "teardown": "",
       "type": "doctest"
      }
     ]
    }
   }
  }
 },
 "nbformat": 4,
 "nbformat_minor": 5
}
